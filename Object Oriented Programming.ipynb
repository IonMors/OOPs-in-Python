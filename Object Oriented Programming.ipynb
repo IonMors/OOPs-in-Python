{
 "cells": [
  {
   "cell_type": "code",
   "execution_count": 1,
   "metadata": {},
   "outputs": [
    {
     "name": "stdout",
     "output_type": "stream",
     "text": [
      "<class 'str'>\n",
      "<class 'int'>\n",
      "<class 'int'>\n"
     ]
    }
   ],
   "source": [
    "item1 = 'Phone'\n",
    "item1_price = 100\n",
    "item1_quantity = 5\n",
    "print(type(item1))\n",
    "print(type(item1_price))\n",
    "print(type(item1_quantity))"
   ]
  },
  {
   "cell_type": "markdown",
   "metadata": {},
   "source": [
    "In Python each datatype is an object which is instantiated earlier by some class. From the above examples the <b>item1</b> variable has been instantiated from a string type of class, and for variable <b>item1_price, item1_quantity</b> has been instantiated from a class that is named <b>int</b>."
   ]
  },
  {
   "cell_type": "code",
   "execution_count": 2,
   "metadata": {},
   "outputs": [
    {
     "name": "stdout",
     "output_type": "stream",
     "text": [
      "<class '__main__.Item'>\n",
      "<class 'str'>\n",
      "<class 'int'>\n",
      "<class 'int'>\n"
     ]
    }
   ],
   "source": [
    "class Item:\n",
    "    pass\n",
    "\n",
    "item1 = Item()\n",
    "item1.name = 'Phone'\n",
    "item1.price = 100\n",
    "item1.quantity = 5\n",
    "\n",
    "print(type(item1))\n",
    "print(type(item1.name))\n",
    "print(type(item1.price))\n",
    "print(type(item1.quantity))"
   ]
  },
  {
   "cell_type": "markdown",
   "metadata": {},
   "source": [
    "In the above result <b>class '__main__.Item'</b> we made our data-type <b>'__main__.Item'<b>"
   ]
  },
  {
   "cell_type": "code",
   "execution_count": 3,
   "metadata": {},
   "outputs": [
    {
     "data": {
      "text/plain": [
       "500"
      ]
     },
     "execution_count": 3,
     "metadata": {},
     "output_type": "execute_result"
    }
   ],
   "source": [
    "class Item:\n",
    "    def calcualte_total_price(self, x, y):\n",
    "        return x*y\n",
    "    \n",
    "item1 = Item()\n",
    "item1.name = 'Phone'\n",
    "item1.price = 100\n",
    "item1.quantity = 5\n",
    "item1.calcualte_total_price(item1.price, item1.quantity) "
   ]
  },
  {
   "cell_type": "markdown",
   "metadata": {},
   "source": [
    "In the above code, the <b>self</b> keyword is used to represent an instance (object) of the given class. In the background <b>item1</b> ,the <b>instance</b> is passed as an argument in the method <b>calculate_total_price</b>"
   ]
  },
  {
   "cell_type": "code",
   "execution_count": 4,
   "metadata": {},
   "outputs": [
    {
     "name": "stdout",
     "output_type": "stream",
     "text": [
      "An instance created: Phone\n"
     ]
    },
    {
     "data": {
      "text/plain": [
       "500"
      ]
     },
     "execution_count": 4,
     "metadata": {},
     "output_type": "execute_result"
    }
   ],
   "source": [
    "class Item:\n",
    "    def __init__(self, name):\n",
    "        print(f\"An instance created: {name}\")\n",
    "    def calcualte_total_price(self, x, y):\n",
    "        return x*y\n",
    "    \n",
    "item1 = Item(\"Phone\")\n",
    "item1.name = 'Phone'\n",
    "item1.price = 100\n",
    "item1.quantity = 5\n",
    "item1.calcualte_total_price(item1.price, item1.quantity) "
   ]
  },
  {
   "cell_type": "markdown",
   "metadata": {},
   "source": [
    "All classes have a function called __init__(), which is always executed when the class is being initiated.\n",
    "\n",
    "Use the __init__() function to assign values to object properties, or other operations that are necessary to do when the object is being created"
   ]
  },
  {
   "cell_type": "code",
   "execution_count": 5,
   "metadata": {},
   "outputs": [
    {
     "name": "stdout",
     "output_type": "stream",
     "text": [
      "Phone\n",
      "5\n",
      "100\n",
      "500\n"
     ]
    }
   ],
   "source": [
    "class Item:\n",
    "    def __init__(self, name, price, quantity):\n",
    "        self.name = name     #instead of hard coding the value of name, we are dynamically assigning value to the parameter name           \n",
    "        self.price = price\n",
    "        self.quantity = quantity\n",
    "        \n",
    "    def calcualte_total_price(self):\n",
    "        return self.price * self.quantity\n",
    "    \n",
    "item1 = Item(\"Phone\",100,5)\n",
    "print(item1.name)\n",
    "print(item1.quantity)\n",
    "print(item1.price)\n",
    "print(item1.calcualte_total_price())"
   ]
  },
  {
   "cell_type": "markdown",
   "metadata": {},
   "source": [
    "##### In the below code we are defining datatype in the constructor only.\n"
   ]
  },
  {
   "cell_type": "code",
   "execution_count": 6,
   "metadata": {},
   "outputs": [
    {
     "name": "stdout",
     "output_type": "stream",
     "text": [
      "Phone\n",
      "5\n",
      "100\n",
      "0.8\n",
      "500\n"
     ]
    }
   ],
   "source": [
    "class Item:\n",
    "    pay_rate = 0.8 \n",
    "    def __init__(self, name: str, price: float, quantity):\n",
    "        \n",
    "        # Run validation to the received arguments\n",
    "        assert price >= 0, f\"Price {price} is not greater than and equal to zero!\"\n",
    "        assert quantity >= 0, f\"Quantity {quantity} is not greater than and equal to zero!\"\n",
    "        \n",
    "        # Assign to self object\n",
    "        self.name = name     \n",
    "        self.price = price\n",
    "        self.quantity = quantity\n",
    "        \n",
    "    def calcualte_total_price(self):\n",
    "        return self.price * self.quantity\n",
    "    \n",
    "item1 = Item(\"Phone\",100,5)\n",
    "print(item1.name)\n",
    "print(item1.quantity)\n",
    "print(item1.price)   #here item1 didn't find the pay_rate attribute from the instance level so they went to fetch the attribute from the class level\n",
    "print(item1.pay_rate)\n",
    "print(item1.calcualte_total_price())"
   ]
  },
  {
   "cell_type": "code",
   "execution_count": 7,
   "metadata": {},
   "outputs": [
    {
     "name": "stdout",
     "output_type": "stream",
     "text": [
      "Phone\n",
      "{'__module__': '__main__', 'pay_rate': 0.8, '__init__': <function Item.__init__ at 0x0000028EFDEFF040>, 'calcualte_total_price': <function Item.calcualte_total_price at 0x0000028EFDEFFA60>, '__dict__': <attribute '__dict__' of 'Item' objects>, '__weakref__': <attribute '__weakref__' of 'Item' objects>, '__doc__': None}\n",
      "{'name': 'Phone', 'price': 100, 'quantity': 5}\n",
      "100\n",
      "0.8\n",
      "500\n"
     ]
    }
   ],
   "source": [
    "class Item:\n",
    "    pay_rate = 0.8 \n",
    "    def __init__(self, name: str, price: float, quantity):\n",
    "        \n",
    "        # Run validation to the received arguments\n",
    "        assert price >= 0, f\"Price {price} is not greater than and equal to zero!\"\n",
    "        assert quantity >= 0, f\"Quantity {quantity} is not greater than and equal to zero!\"\n",
    "        \n",
    "        # Assign to self object\n",
    "        self.name = name     \n",
    "        self.price = price\n",
    "        self.quantity = quantity\n",
    "        \n",
    "    def calcualte_total_price(self):\n",
    "        return self.price * self.quantity\n",
    "    \n",
    "item1 = Item(\"Phone\",100,5)\n",
    "print(item1.name)\n",
    "print(Item.__dict__)   #bring all the attributes for class level\n",
    "print(item1.__dict__)  #bring all the attributes for instance level\n",
    "print(item1.price)     #here item1 didn't find the pay_rate attribute from the instance level so they went to fetch the attribute from the class level\n",
    "print(item1.pay_rate)\n",
    "print(item1.calcualte_total_price())"
   ]
  },
  {
   "cell_type": "code",
   "execution_count": 8,
   "metadata": {},
   "outputs": [
    {
     "name": "stdout",
     "output_type": "stream",
     "text": [
      "90.0\n",
      "700.0\n"
     ]
    }
   ],
   "source": [
    "class Item:\n",
    "    pay_rate = 0.9\n",
    "    def __init__(self, name: str, price: float, quantity):\n",
    "        \n",
    "        # Run validation to the received arguments\n",
    "        assert price >= 0, f\"Price {price} is not greater than and equal to zero!\"\n",
    "        assert quantity >= 0, f\"Quantity {quantity} is not greater than and equal to zero!\"\n",
    "        \n",
    "        # Assign to self object\n",
    "        self.name = name     \n",
    "        self.price = price\n",
    "        self.quantity = quantity\n",
    "        \n",
    "    def calcualte_total_price(self):\n",
    "        return self.price * self.quantity\n",
    "    \n",
    "    def apply_discount(self):\n",
    "        #pay_rate is already there in the class but to access it, it can be done either from class level or from instance level\n",
    "        #so instead of using Item.pay_rate we will use self.pay_rate to avoid hardcoding the value of pay_rate\n",
    "        self.price = self.price * self.pay_rate\n",
    "    \n",
    "item1 = Item(\"Phone\",100,5)\n",
    "item1.apply_discount()\n",
    "print(item1.price)\n",
    "\n",
    "item2 = Item(\"Laptop\",1000,3)\n",
    "item2.pay_rate = 0.7 #item2 will search for the value of pay_rate at instance level and will search at class level\n",
    "item2.apply_discount()\n",
    "print(item2.price)"
   ]
  },
  {
   "cell_type": "code",
   "execution_count": 9,
   "metadata": {},
   "outputs": [
    {
     "name": "stdout",
     "output_type": "stream",
     "text": [
      "Item('Phone', 100, 5)\n",
      "Item('Laptop', 1000, 3)\n",
      "Item('Cable', 10, 5)\n",
      "Item('Mouse', 50, 5)\n",
      "Item('Keyboard', 75, 5)\n"
     ]
    }
   ],
   "source": [
    "class Item:\n",
    "    pay_rate = 0.9\n",
    "    all = []\n",
    "    def __init__(self, name: str, price: float, quantity):\n",
    "        \n",
    "        # Run validation to the received arguments\n",
    "        assert price >= 0, f\"Price {price} is not greater than and equal to zero!\"\n",
    "        assert quantity >= 0, f\"Quantity {quantity} is not greater than and equal to zero!\"\n",
    "        \n",
    "        # Assign to self object\n",
    "        self.name = name     \n",
    "        self.price = price\n",
    "        self.quantity = quantity\n",
    "        \n",
    "        # Actions to execute\n",
    "        Item.all.append(self)\n",
    "        \n",
    "    def calcualte_total_price(self):\n",
    "        return self.price * self.quantity\n",
    "    \n",
    "    def apply_discount(self):\n",
    "        #pay_rate is already there in the class but to access it, it can be done either from class level or from instance level\n",
    "        #so instead of using Item.pay_rate we will use self.pay_rate to avoid the fix value of pay_rate\n",
    "        self.price = self.price * self.pay_rate\n",
    "    \n",
    "    \n",
    "    def __repr__(self): #magic method which returns the object representation in string format\n",
    "        return f\"Item('{self.name}', {self.price}, {self.quantity})\"\n",
    "    \n",
    "item1 = Item(\"Phone\",100,5)\n",
    "item2 = Item(\"Laptop\",1000,3)\n",
    "item3 = Item(\"Cable\",10,5)\n",
    "item4 = Item(\"Mouse\",50,5)\n",
    "item5 = Item(\"Keyboard\",75,5)\n",
    "\n",
    "#print(Item.all) #useful when we want to do something with only one attribute of that instance\n",
    "\n",
    "for items in Item.all:\n",
    "    print(items)\n",
    "\n"
   ]
  },
  {
   "cell_type": "markdown",
   "metadata": {},
   "source": [
    "#### Decorator - Decorators are a very powerful and useful tool in Python since it allows programmers to modify the behaviour of a function or class. Decorators allow us to wrap another function in order to extend the behaviour of the wrapped function, without permanently modifying it. "
   ]
  },
  {
   "cell_type": "code",
   "execution_count": 10,
   "metadata": {},
   "outputs": [
    {
     "name": "stdout",
     "output_type": "stream",
     "text": [
      "[Item('Phone', 100, 5), Item('Laptop', 1000, 3), Item('Cable', 10, 5), Item('Mouse', 50, 5), Item('Keyboard', 75, 5)]\n"
     ]
    }
   ],
   "source": [
    "import csv\n",
    "\n",
    "class Item:\n",
    "    all = []\n",
    "    def __init__(self, name: str, price: float, quantity):\n",
    "        \n",
    "        # Run validation to the received arguments\n",
    "        assert price >= 0, f\"Price {price} is not greater than and equal to zero!\"\n",
    "        assert quantity >= 0, f\"Quantity {quantity} is not greater than and equal to zero!\"\n",
    "        \n",
    "        # Assign to self object\n",
    "        self.name = name     \n",
    "        self.price = price\n",
    "        self.quantity = quantity\n",
    "        \n",
    "        # Actions to execute\n",
    "        Item.all.append(self)\n",
    "        \n",
    "    @classmethod #decorator is used to declare a method in the class as a class method that can be called using ClassName. MethodName()\n",
    "    def instantiate_from_csv(cls): #here the class reference is passed as a first argument, when we call a class method in this approach\n",
    "        with open('item.csv', 'r') as f:\n",
    "            reader = csv.DictReader(f) #this method will read the content from csv file as a dictionary\n",
    "            items = list(reader)\n",
    "            \n",
    "        for item in items:\n",
    "            Item(\n",
    "                    name = item.get('name'),\n",
    "                    price = int(item.get('price')),\n",
    "                    quantity = int(item.get('quantity'))\n",
    "                )\n",
    "    def __repr__(self): #magic method which returns the object representation in string format\n",
    "        return f\"Item('{self.name}', {self.price}, {self.quantity})\"\n",
    "    \n",
    "        \n",
    "    \n",
    "Item.instantiate_from_csv()\n",
    "print(Item.all)\n"
   ]
  },
  {
   "cell_type": "code",
   "execution_count": 11,
   "metadata": {},
   "outputs": [
    {
     "name": "stdout",
     "output_type": "stream",
     "text": [
      "False\n"
     ]
    }
   ],
   "source": [
    "import csv\n",
    "\n",
    "class Item:\n",
    "    pay_rate = 0.9\n",
    "    all = []\n",
    "    def __init__(self, name: str, price: float, quantity):\n",
    "        \n",
    "        # Run validation to the received arguments\n",
    "        assert price >= 0, f\"Price {price} is not greater than and equal to zero!\"\n",
    "        assert quantity >= 0, f\"Quantity {quantity} is not greater than and equal to zero!\"\n",
    "        \n",
    "        # Assign to self object\n",
    "        self.name = name     \n",
    "        self.price = price\n",
    "        self.quantity = quantity\n",
    "        \n",
    "        # Actions to execute\n",
    "        Item.all.append(self)\n",
    "        \n",
    "    def calcualte_total_price(self):\n",
    "        return self.price * self.quantity\n",
    "    \n",
    "    def apply_discount(self):\n",
    "        #pay_rate is already there in the class but to access it, it can be done either from class level or from instance level\n",
    "        #so instead of using Item.pay_rate we will use self.pay_rate to avoid the fix value of pay_rate\n",
    "        self.price = self.price * self.pay_rate\n",
    "        \n",
    "    @staticmethod\n",
    "    def is_integer(num):\n",
    "        # We will count out the floats that are point zero\n",
    "        # For i.e: 5.0, 10.0\n",
    "        if isinstance(num, float):# checking if it is an instance of a float\n",
    "            #Count out the float that are point zero\n",
    "            return num.is_integer()\n",
    "        elif isinstance(num, int): # checking if it is an instance of an integer\n",
    "            return True\n",
    "        else:\n",
    "            return False\n",
    "    \n",
    "    def __repr__(self): #magic method which returns the object representation in string format\n",
    "        return f\"Item('{self.name}', {self.price}, {self.quantity})\"\n",
    "\n",
    "print(Item.is_integer(7.8))"
   ]
  },
  {
   "cell_type": "markdown",
   "metadata": {},
   "source": [
    "    Class Method: - \n",
    "        1. The class method takes cls (class) as first argument.\n",
    "        2. Class method can access and modify the class state.\n",
    "        3. The class method takes the class as parameter to know about the state of that class.\n",
    "        4. @classmethod decorator is used here.\n",
    "        \n",
    "    Static Method: -\n",
    "        1. The static method does not take any specific parameter.\n",
    "        2. Static Method cannot access or modify the class state.\n",
    "        3. Static methods do not know about class state.\n",
    "        4. @staticmethod decorator is used here."
   ]
  },
  {
   "cell_type": "markdown",
   "metadata": {},
   "source": [
    "<b>So when should you use @staticmethod?</b><br>\n",
    "Only use @staticmethod when you want to place a method inside a class that is logically related to the class, but does not necessarily interact with any specific instance."
   ]
  },
  {
   "cell_type": "code",
   "execution_count": 12,
   "metadata": {},
   "outputs": [],
   "source": [
    "class Item:\n",
    "    @staticmethod\n",
    "    def is_integer():\n",
    "        '''This should do something that has a relationship with the class, but not something that must be unique per instance'''\n",
    "        \n",
    "        \n",
    "    @classmethod\n",
    "    def instantiate_from_yaml_file(cls):\n",
    "        '''This should also do something that has a relationship with the class, but usually, those are used to manipulate\n",
    "         different structure of data to instantiate objects, like we have done with csv.'''"
   ]
  },
  {
   "cell_type": "code",
   "execution_count": 13,
   "metadata": {},
   "outputs": [
    {
     "name": "stdout",
     "output_type": "stream",
     "text": [
      "2500\n",
      "[Phone('iphone11', 500, 5), Phone('iphone13', 700, 5)]\n",
      "[Phone('iphone11', 500, 5), Phone('iphone13', 700, 5)]\n"
     ]
    }
   ],
   "source": [
    "import csv\n",
    "\n",
    "class Item:\n",
    "    pay_rate = 0.9\n",
    "    all = []\n",
    "    def __init__(self, name: str, price: float, quantity):\n",
    "        \n",
    "        # Run validation to the received arguments\n",
    "        assert price >= 0, f\"Price {price} is not greater than and equal to zero!\"\n",
    "        assert quantity >= 0, f\"Quantity {quantity} is not greater than and equal to zero!\"\n",
    "        \n",
    "        # Assign to self object\n",
    "        self.name = name     \n",
    "        self.price = price\n",
    "        self.quantity = quantity\n",
    "        \n",
    "        # Actions to execute\n",
    "        Item.all.append(self)\n",
    "        \n",
    "    def calcualte_total_price(self):\n",
    "        return self.price * self.quantity\n",
    "    \n",
    "    def apply_discount(self):\n",
    "        #pay_rate is already there in the class but to access it, it can be done either from class level or from instance level\n",
    "        #so instead of using Item.pay_rate we will use self.pay_rate to avoid the fix value of pay_rate\n",
    "        self.price = self.price * self.pay_rate\n",
    "        \n",
    "    @staticmethod\n",
    "    def is_integer(num):\n",
    "        # We will count out the floats that are point zero\n",
    "        # For i.e: 5.0, 10.0\n",
    "        if isinstance(num, float):# checking if it is an instance of a float\n",
    "            #Count out the float that are point zero\n",
    "            return num.is_integer()\n",
    "        elif isinstance(num, int): # checking if it is an instance of an integer\n",
    "            return True\n",
    "        else:\n",
    "            return False\n",
    "    \n",
    "    def __repr__(self): #magic method which returns the object representation in string format\n",
    "        return f\"{self.__class__.__name__}('{self.name}', {self.price}, {self.quantity})\" # a generic way to receive class name from the instance\n",
    "\n",
    "#print(Item.is_integer(7.8))\n",
    "\n",
    "\n",
    "\n",
    "class Phone(Item):\n",
    "    def __init__(self, name: str, price: float, quantity = 0, broken_phones = 0):\n",
    "        # Call to super function to have access to all attributes / methods\n",
    "        super().__init__(\n",
    "            name, price, quantity\n",
    "        )\n",
    "        # Run validation to the received arguments\n",
    "        assert broken_phones >= 0, f\"Broken Phones {broken_phones} is not greater than and equal to zero!\"\n",
    "        \n",
    "        # Assign to self object\n",
    "        self.broken_phones = broken_phones\n",
    "        \n",
    "phone1 = Phone(\"iphone11\", 500, 5, 1)\n",
    "phone2 = Phone(\"iphone13\", 700, 5, 1)\n",
    "\n",
    "print(phone1.calcualte_total_price())\n",
    "print(Item.all)\n",
    "print(Phone.all)"
   ]
  },
  {
   "cell_type": "code",
   "execution_count": 14,
   "metadata": {},
   "outputs": [
    {
     "name": "stdout",
     "output_type": "stream",
     "text": [
      "2500\n",
      "[Phone('iphone11', 500, 5), Phone('iphone13', 700, 5)]\n",
      "[Phone('iphone11', 500, 5), Phone('iphone13', 700, 5)]\n"
     ]
    }
   ],
   "source": [
    "import csv\n",
    "\n",
    "class Item:\n",
    "    pay_rate = 0.9\n",
    "    all = []\n",
    "    def __init__(self, name: str, price: float, quantity):\n",
    "        \n",
    "        # Run validation to the received arguments\n",
    "        assert price >= 0, f\"Price {price} is not greater than and equal to zero!\"\n",
    "        assert quantity >= 0, f\"Quantity {quantity} is not greater than and equal to zero!\"\n",
    "        \n",
    "        # Assign to self object\n",
    "        self.name = name     \n",
    "        self.price = price\n",
    "        self.quantity = quantity\n",
    "        \n",
    "        # Actions to execute\n",
    "        Item.all.append(self)\n",
    "        \n",
    "    def calcualte_total_price(self):\n",
    "        return self.price * self.quantity\n",
    "    \n",
    "    def apply_discount(self):\n",
    "        #pay_rate is already there in the class but to access it, it can be done either from class level or from instance level\n",
    "        #so instead of using Item.pay_rate we will use self.pay_rate to avoid the fix value of pay_rate\n",
    "        self.price = self.price * self.pay_rate\n",
    "        \n",
    "    @staticmethod\n",
    "    def is_integer(num):\n",
    "        # We will count out the floats that are point zero\n",
    "        # For i.e: 5.0, 10.0\n",
    "        if isinstance(num, float):# checking if it is an instance of a float\n",
    "            #Count out the float that are point zero\n",
    "            return num.is_integer()\n",
    "        elif isinstance(num, int): # checking if it is an instance of an integer\n",
    "            return True\n",
    "        else:\n",
    "            return False\n",
    "    \n",
    "    def __repr__(self): #magic method which returns the object representation in string format\n",
    "        return f\"{self.__class__.__name__}('{self.name}', {self.price}, {self.quantity})\" # a generic way to receive class name from the instance\n",
    "\n",
    "#print(Item.is_integer(7.8))\n",
    "\n",
    "\n",
    "class Phone(Item):\n",
    "    def __init__(self, name: str, price: float, quantity = 0, broken_phones = 0):\n",
    "        # Call to super function to have access to all attributes / methods\n",
    "        super().__init__(\n",
    "            name, price, quantity\n",
    "        )\n",
    "        # Run validation to the received arguments\n",
    "        assert broken_phones >= 0, f\"Broken Phones {broken_phones} is not greater than and equal to zero!\"\n",
    "        \n",
    "        # Assign to self object\n",
    "        self.broken_phones = broken_phones\n",
    "        \n",
    "phone1 = Phone(\"iphone11\", 500, 5, 1)\n",
    "phone2 = Phone(\"iphone13\", 700, 5, 1)\n",
    "\n",
    "print(phone1.calcualte_total_price())\n",
    "print(Item.all)\n",
    "print(Phone.all)\n"
   ]
  },
  {
   "cell_type": "code",
   "execution_count": null,
   "metadata": {},
   "outputs": [],
   "source": []
  }
 ],
 "metadata": {
  "kernelspec": {
   "display_name": "Python 3",
   "language": "python",
   "name": "python3"
  },
  "language_info": {
   "codemirror_mode": {
    "name": "ipython",
    "version": 3
   },
   "file_extension": ".py",
   "mimetype": "text/x-python",
   "name": "python",
   "nbconvert_exporter": "python",
   "pygments_lexer": "ipython3",
   "version": "3.9.1 (tags/v3.9.1:1e5d33e, Dec  7 2020, 17:08:21) [MSC v.1927 64 bit (AMD64)]"
  },
  "vscode": {
   "interpreter": {
    "hash": "31367e2cfbda0d4c4c304632cba9b37580c58280180cc8f81514f9adcc11a803"
   }
  }
 },
 "nbformat": 4,
 "nbformat_minor": 4
}
